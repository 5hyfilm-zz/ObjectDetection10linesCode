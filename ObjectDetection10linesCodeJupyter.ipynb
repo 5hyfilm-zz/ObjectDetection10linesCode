{
 "cells": [
  {
   "cell_type": "code",
   "execution_count": 1,
   "metadata": {},
   "outputs": [
    {
     "name": "stderr",
     "output_type": "stream",
     "text": [
      "Using TensorFlow backend.\n"
     ]
    },
    {
     "name": "stdout",
     "output_type": "stream",
     "text": [
      "WARNING:tensorflow:From /Users/filmerxyz/anaconda3/lib/python3.7/site-packages/tensorflow/python/framework/op_def_library.py:263: colocate_with (from tensorflow.python.framework.ops) is deprecated and will be removed in a future version.\n",
      "Instructions for updating:\n",
      "Colocations handled automatically by placer.\n",
      "bottle  :  52.530282735824585\n",
      "person  :  71.82511687278748\n",
      "person  :  50.13312101364136\n",
      "person  :  87.22551465034485\n",
      "person  :  58.214253187179565\n",
      "person  :  59.46058630943298\n",
      "chair  :  61.51804327964783\n",
      "bottle  :  65.8412754535675\n",
      "person  :  55.78450560569763\n",
      "person  :  76.18260979652405\n",
      "person  :  61.67926788330078\n",
      "chair  :  60.66887974739075\n",
      "bottle  :  77.10816860198975\n",
      "bottle  :  72.9994535446167\n",
      "person  :  74.12986755371094\n",
      "person  :  61.90486550331116\n",
      "person  :  68.18603277206421\n",
      "person  :  86.26247644424438\n",
      "person  :  93.61648559570312\n",
      "person  :  88.91979455947876\n",
      "person  :  88.45843076705933\n",
      "person  :  96.95624113082886\n",
      "person  :  89.59208726882935\n"
     ]
    }
   ],
   "source": [
    "from imageai.Detection import ObjectDetection\n",
    "import os\n",
    "\n",
    "execution_path = os.getcwd()\n",
    "\n",
    "detector = ObjectDetection()\n",
    "detector.setModelTypeAsRetinaNet()\n",
    "detector.setModelPath( os.path.join(execution_path , \"resnet50_coco_best_v2.0.1.h5\"))\n",
    "detector.loadModel()\n",
    "detections = detector.detectObjectsFromImage(input_image=os.path.join(execution_path , \"image.jpg\"), output_image_path=os.path.join(execution_path , \"imagenew.jpg\"))\n",
    "\n",
    "for eachObject in detections:\n",
    "    print(eachObject[\"name\"] , \" : \" , eachObject[\"percentage_probability\"] )\n",
    "    \n",
    "from PIL import Image\n",
    "image = Image.open('imagenew.jpg')\n",
    "image.show()"
   ]
  },
  {
   "cell_type": "code",
   "execution_count": null,
   "metadata": {},
   "outputs": [],
   "source": []
  }
 ],
 "metadata": {
  "kernelspec": {
   "display_name": "Python 3",
   "language": "python",
   "name": "python3"
  },
  "language_info": {
   "codemirror_mode": {
    "name": "ipython",
    "version": 3
   },
   "file_extension": ".py",
   "mimetype": "text/x-python",
   "name": "python",
   "nbconvert_exporter": "python",
   "pygments_lexer": "ipython3",
   "version": "3.7.1"
  }
 },
 "nbformat": 4,
 "nbformat_minor": 2
}
